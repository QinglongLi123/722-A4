{
 "cells": [
  {
   "cell_type": "code",
   "execution_count": 77,
   "id": "2181684d",
   "metadata": {},
   "outputs": [],
   "source": [
    "from pyspark.sql import SparkSession\n",
    "from pyspark.ml.feature import VectorAssembler, StandardScaler\n",
    "from pyspark.ml.classification import RandomForestClassifier\n",
    "from pyspark.ml.evaluation import BinaryClassificationEvaluator\n",
    "from pyspark.ml import Pipeline\n"
   ]
  },
  {
   "cell_type": "code",
   "execution_count": 78,
   "id": "7f75355b",
   "metadata": {},
   "outputs": [],
   "source": [
    "spark = SparkSession.builder.appName(\"WaterPotabilityPrediction\").getOrCreate()"
   ]
  },
  {
   "cell_type": "code",
   "execution_count": 79,
   "id": "b152b509",
   "metadata": {},
   "outputs": [],
   "source": [
    "data = spark.read.csv(\"Water1.csv\", header=True, inferSchema=True)"
   ]
  },
  {
   "cell_type": "code",
   "execution_count": 80,
   "id": "461a3449",
   "metadata": {},
   "outputs": [],
   "source": [
    "columns_to_fill = ['ph']\n",
    "\n",
    "medians = {col: data.approxQuantile(col, [0.5], 0.0)[0] for col in columns_to_fill}\n",
    "\n",
    "\n",
    "for col, median in medians.items():\n",
    "    data = data.na.fill({col: median})"
   ]
  },
  {
   "cell_type": "code",
   "execution_count": 81,
   "id": "8069bc14",
   "metadata": {},
   "outputs": [],
   "source": [
    "from pyspark.sql.functions import col\n",
    "data = data.withColumn('Hardness_Solids', col('hardness') * col('solids'))"
   ]
  },
  {
   "cell_type": "code",
   "execution_count": 82,
   "id": "98780db2",
   "metadata": {},
   "outputs": [],
   "source": [
    "all_columns = data.columns\n",
    "# The first DataFrame contains the first five variables\n",
    "first_five_columns = all_columns[:5]  # set columns is 5\n",
    "df_first_five = data.select(first_five_columns)\n",
    "\n",
    "# The second DataFrame contains the last six variables\n",
    "last_six_columns = all_columns[-6:]  # set columns is 6\n",
    "df_last_six = data.select(last_six_columns)"
   ]
  },
  {
   "cell_type": "code",
   "execution_count": 83,
   "id": "bb002ed7",
   "metadata": {},
   "outputs": [],
   "source": [
    "from pyspark.sql.functions import monotonically_increasing_id\n",
    "\n",
    "# Add row indexes to two DataFrames\n",
    "df_first_five = df_first_five.withColumn(\"row_id\", monotonically_increasing_id())\n",
    "df_last_six = df_last_six.withColumn(\"row_id\", monotonically_increasing_id())\n",
    "# Merge DataFrame by row index\n",
    "df_merged = df_first_five.join(df_last_six, \"row_id\", \"inner\").drop(\"row_id\")"
   ]
  },
  {
   "cell_type": "code",
   "execution_count": 84,
   "id": "9ecbc9a8",
   "metadata": {},
   "outputs": [],
   "source": [
    "from pyspark.sql import SparkSession\n",
    "from pyspark.sql.functions import col, log1p\n",
    "from pyspark.sql.types import IntegerType, DoubleType\n",
    "# Identify numeric columns\n",
    "numeric_cols = [f.name for f in data.schema.fields if isinstance(f.dataType, (IntegerType, DoubleType))]\n",
    "# Apply a logarithmic transformation to each numeric column\n",
    "for col_name in numeric_cols:\n",
    "    data = data.withColumn(f\"{col_name}_log\", log1p(col(col_name)))"
   ]
  },
  {
   "cell_type": "code",
   "execution_count": 85,
   "id": "e13b9db1",
   "metadata": {},
   "outputs": [],
   "source": [
    "data1, _ = data.randomSplit([0.8, 0.2], seed=42)\n",
    "data1 = data1.drop('Potability_log')"
   ]
  },
  {
   "cell_type": "code",
   "execution_count": 103,
   "id": "a53524d7",
   "metadata": {},
   "outputs": [],
   "source": [
    "data1 = data1.drop(\"Turbidity_log\", \"Trihalomethanes\", \"Organic_carbon\")\n"
   ]
  },
  {
   "cell_type": "code",
   "execution_count": 43,
   "id": "5d510f63",
   "metadata": {},
   "outputs": [
    {
     "name": "stdout",
     "output_type": "stream",
     "text": [
      "Accuracy:  0.6475903614457831\n"
     ]
    },
    {
     "name": "stderr",
     "output_type": "stream",
     "text": [
      "/home/ubuntu/.local/lib/python3.10/site-packages/pyspark/sql/context.py:125: FutureWarning: Deprecated in 3.0.0. Use SparkSession.builder.getOrCreate() instead.\n",
      "  warnings.warn(\n",
      "                                                                                \r"
     ]
    },
    {
     "name": "stdout",
     "output_type": "stream",
     "text": [
      "Confusion Matrix:\n",
      " [[198.  21.]\n",
      " [ 96.  17.]]\n"
     ]
    }
   ],
   "source": [
    "# Logistic regression\n",
    "from pyspark.ml.feature import StringIndexer, VectorAssembler\n",
    "from pyspark.ml.classification import LogisticRegression\n",
    "from pyspark.ml import Pipeline\n",
    "from pyspark.ml.evaluation import MulticlassClassificationEvaluator\n",
    "from pyspark.mllib.evaluation import MulticlassMetrics\n",
    "from pyspark.sql.functions import col\n",
    "\n",
    "\n",
    "indexer = StringIndexer(inputCol=\"Potability\", outputCol=\"label\")\n",
    "assembler = VectorAssembler(inputCols=[c for c in data1.columns if c != 'Potability'], outputCol=\"features\")\n",
    "# Defining a logistic regression model\n",
    "lr = LogisticRegression(featuresCol=\"features\", labelCol=\"label\")\n",
    "\n",
    "pipeline = Pipeline(stages=[indexer, assembler, lr])\n",
    "train_data, test_data = data1.randomSplit([0.8, 0.2], seed=42)\n",
    "model = pipeline.fit(train_data)\n",
    "predictions = model.transform(test_data)\n",
    "\n",
    "\n",
    "evaluator = MulticlassClassificationEvaluator(labelCol=\"label\", predictionCol=\"prediction\", metricName=\"accuracy\")\n",
    "accuracy = evaluator.evaluate(predictions)\n",
    "print(\"Accuracy: \", accuracy)\n",
    "\n",
    "\n",
    "predictionAndLabels = predictions.select(['prediction', 'label']).rdd\n",
    "metrics = MulticlassMetrics(predictionAndLabels)\n",
    "confusionMatrix = metrics.confusionMatrix().toArray()\n",
    "print(\"Confusion Matrix:\\n\", confusionMatrix)\n"
   ]
  },
  {
   "cell_type": "code",
   "execution_count": 74,
   "id": "e568c187",
   "metadata": {},
   "outputs": [
    {
     "name": "stdout",
     "output_type": "stream",
     "text": [
      "Accuracy:  0.6475903614457831\n"
     ]
    },
    {
     "name": "stderr",
     "output_type": "stream",
     "text": [
      "/home/ubuntu/.local/lib/python3.10/site-packages/pyspark/sql/context.py:125: FutureWarning: Deprecated in 3.0.0. Use SparkSession.builder.getOrCreate() instead.\n",
      "  warnings.warn(\n"
     ]
    },
    {
     "name": "stdout",
     "output_type": "stream",
     "text": [
      "Confusion Matrix:\n",
      " [[201.  18.]\n",
      " [ 99.  14.]]\n",
      "DecisionTreeClassificationModel: uid=DecisionTreeClassifier_fc15ad6ca589, depth=3, numNodes=9, numClasses=2, numFeatures=17\n",
      "  If (feature 4 <= 259.75734258571117)\n",
      "   If (feature 7 <= 1941762.7242465355)\n",
      "    Predict: 0.0\n",
      "   Else (feature 7 > 1941762.7242465355)\n",
      "    Predict: 1.0\n",
      "  Else (feature 4 > 259.75734258571117)\n",
      "   If (feature 4 <= 372.7647732354243)\n",
      "    Predict: 0.0\n",
      "   Else (feature 4 > 372.7647732354243)\n",
      "    If (feature 0 <= 7.501465133532016)\n",
      "     Predict: 1.0\n",
      "    Else (feature 0 > 7.501465133532016)\n",
      "     Predict: 0.0\n",
      "\n"
     ]
    }
   ],
   "source": [
    "# Classification tree\n",
    "from pyspark.ml.feature import StringIndexer, VectorAssembler\n",
    "from pyspark.ml.classification import DecisionTreeClassifier\n",
    "from pyspark.ml import Pipeline\n",
    "from pyspark.ml.evaluation import MulticlassClassificationEvaluator\n",
    "\n",
    "indexer = StringIndexer(inputCol=\"Potability\", outputCol=\"label\")\n",
    "assembler = VectorAssembler(inputCols=[c for c in data1.columns if c != 'Potability'], outputCol=\"features\")\n",
    "\n",
    "# Defining a decision tree model\n",
    "dt = DecisionTreeClassifier(featuresCol=\"features\", labelCol=\"label\", maxDepth=3)\n",
    "\n",
    "\n",
    "pipeline = Pipeline(stages=[indexer, assembler, dt])\n",
    "\n",
    "train_data, test_data = data1.randomSplit([0.8, 0.2], seed=42)\n",
    "model = pipeline.fit(train_data)\n",
    "predictions = model.transform(test_data)\n",
    "\n",
    "\n",
    "evaluator = MulticlassClassificationEvaluator(labelCol=\"label\", predictionCol=\"prediction\", metricName=\"accuracy\")\n",
    "accuracy = evaluator.evaluate(predictions)\n",
    "\n",
    "print(\"Accuracy: \", accuracy)\n",
    "\n",
    "predictionAndLabels = predictions.select(['prediction', 'label']).rdd\n",
    "metrics = MulticlassMetrics(predictionAndLabels)\n",
    "confusionMatrix = metrics.confusionMatrix().toArray()\n",
    "print(\"Confusion Matrix:\\n\", confusionMatrix)\n",
    "treeModel = model.stages[-1]  \n",
    "print(treeModel.toDebugString)"
   ]
  },
  {
   "cell_type": "code",
   "execution_count": 101,
   "id": "2559c5ae",
   "metadata": {},
   "outputs": [
    {
     "name": "stdout",
     "output_type": "stream",
     "text": [
      "Accuracy:  0.6626506024096386\n"
     ]
    },
    {
     "name": "stderr",
     "output_type": "stream",
     "text": [
      "/home/ubuntu/.local/lib/python3.10/site-packages/pyspark/sql/context.py:125: FutureWarning: Deprecated in 3.0.0. Use SparkSession.builder.getOrCreate() instead.\n",
      "  warnings.warn(\n"
     ]
    },
    {
     "name": "stdout",
     "output_type": "stream",
     "text": [
      "Confusion Matrix:\n",
      " [[204.  15.]\n",
      " [ 97.  16.]]\n",
      "F1 Score:  0.5931984347646997\n",
      "Recall Rate:  0.6626506024096386\n"
     ]
    }
   ],
   "source": [
    "# Random forest\n",
    "from pyspark.ml.feature import StringIndexer, VectorAssembler\n",
    "from pyspark.ml.classification import RandomForestClassifier\n",
    "from pyspark.ml import Pipeline\n",
    "from pyspark.ml.evaluation import MulticlassClassificationEvaluator\n",
    "\n",
    "indexer = StringIndexer(inputCol=\"Potability\", outputCol=\"label\")\n",
    "assembler = VectorAssembler(inputCols=[c for c in data1.columns if c != 'Potability'], outputCol=\"features\")\n",
    "\n",
    "# Defining a Random Forest Model\n",
    "rf = RandomForestClassifier(labelCol=\"label\", featuresCol=\"features\", maxDepth=3, numTrees=100)\n",
    "\n",
    "pipeline = Pipeline(stages=[indexer, assembler, rf])\n",
    "\n",
    "train_data, test_data = data1.randomSplit([0.8, 0.2], seed=42)\n",
    "model = pipeline.fit(train_data)\n",
    "predictions = model.transform(test_data)\n",
    "\n",
    "evaluator = MulticlassClassificationEvaluator(labelCol=\"label\", predictionCol=\"prediction\", metricName=\"accuracy\")\n",
    "accuracy = evaluator.evaluate(predictions)\n",
    "\n",
    "print(\"Accuracy: \", accuracy)\n",
    "\n",
    "predictionAndLabels = predictions.select(['prediction', 'label']).rdd\n",
    "metrics = MulticlassMetrics(predictionAndLabels)\n",
    "confusionMatrix = metrics.confusionMatrix().toArray()\n",
    "print(\"Confusion Matrix:\\n\", confusionMatrix)\n",
    "\n",
    "f1_evaluator = MulticlassClassificationEvaluator(labelCol=\"label\", predictionCol=\"prediction\", metricName=\"f1\")\n",
    "f1_score = f1_evaluator.evaluate(predictions)\n",
    "print(\"F1 Score: \", f1_score)\n",
    "\n",
    "recall_evaluator = MulticlassClassificationEvaluator(labelCol=\"label\", predictionCol=\"prediction\", metricName=\"weightedRecall\")\n",
    "recall = recall_evaluator.evaluate(predictions)\n",
    "print(\"Recall Rate: \", recall)"
   ]
  },
  {
   "cell_type": "code",
   "execution_count": 100,
   "id": "c84592b3",
   "metadata": {},
   "outputs": [
    {
     "name": "stdout",
     "output_type": "stream",
     "text": [
      "Feature Importances:\n",
      "Sulfate_log: 0.22912611821650355\n",
      "Sulfate: 0.17714885741853545\n",
      "ph: 0.10719473095432809\n",
      "Solids_log: 0.07999286923041714\n",
      "ph_log: 0.06920912585759084\n",
      "Solids: 0.05890796752855553\n",
      "Hardness: 0.0573219793961942\n",
      "Hardness_log: 0.04504664541514967\n",
      "Chloramines_log: 0.036628202705853964\n",
      "Chloramines: 0.031729152695978154\n",
      "Hardness_Solids_log: 0.02835329796326184\n",
      "Conductivity: 0.020788508868997357\n",
      "Hardness_Solids: 0.015381367943294644\n",
      "Organic_carbon_log: 0.014179543269187148\n",
      "Conductivity_log: 0.011541760474400718\n",
      "Turbidity: 0.009289846302080912\n",
      "Trihalomethanes_log: 0.008160025759670902\n"
     ]
    },
    {
     "data": {
      "image/png": "[encoded data removed]",
      "text/plain": [
       "<Figure size 864x576 with 1 Axes>"
      ]
     },
     "metadata": {
      "needs_background": "light"
     },
     "output_type": "display_data"
    }
   ],
   "source": [
    "from pyspark.ml.feature import VectorAssembler, StringIndexer\n",
    "from pyspark.ml import Pipeline\n",
    "\n",
    "indexer = StringIndexer(inputCol=\"Potability\", outputCol=\"label\")\n",
    "\n",
    "assembler = VectorAssembler(inputCols=[c for c in data1.columns if c != 'Potability'], outputCol=\"features\")\n",
    "\n",
    "pipeline = Pipeline(stages=[indexer, assembler])\n",
    "data1_transformed = pipeline.fit(data1).transform(data1)\n",
    "\n",
    "from pyspark.ml.classification import RandomForestClassifier\n",
    "\n",
    "# Creating a Random Forest Classifier\n",
    "rf = RandomForestClassifier(labelCol=\"label\", featuresCol=\"features\", maxDepth=3, numTrees=100)\n",
    "\n",
    "model = rf.fit(data1_transformed)\n",
    "\n",
    "importances = model.featureImportances\n",
    "feature_names = [c for c in data1.columns if c != 'Potability']\n",
    "\n",
    "print(\"Feature Importances:\")\n",
    "sorted_importances = sorted(zip(feature_names, importances), key=lambda x: x[1], reverse=True)\n",
    "for name, imp in sorted_importances:\n",
    "    print(f\"{name}: {imp}\")\n",
    "    \n",
    "import matplotlib.pyplot as plt\n",
    "\n",
    "feature_names, importances = zip(*sorted_importances)\n",
    "\n",
    "plt.figure(figsize=(12, 8))\n",
    "plt.barh(feature_names, importances, color='skyblue')\n",
    "plt.xlabel('Importance')\n",
    "plt.ylabel('Features')\n",
    "plt.title('Feature Importance')\n",
    "plt.show()"
   ]
  },
  {
   "cell_type": "code",
   "execution_count": 66,
   "id": "2ed05159",
   "metadata": {},
   "outputs": [
    {
     "data": {
      "image/png": "[encoded data removed]",
      "text/plain": [
       "<Figure size 432x288 with 1 Axes>"
      ]
     },
     "metadata": {
      "needs_background": "light"
     },
     "output_type": "display_data"
    },
    {
     "name": "stdout",
     "output_type": "stream",
     "text": [
      "Silhouette with squared euclidean distance = 0.7308337734280587\n"
     ]
    }
   ],
   "source": [
    "from pyspark.ml.feature import VectorAssembler\n",
    "from pyspark.ml.clustering import KMeans\n",
    "from pyspark.ml.feature import PCA\n",
    "import pandas as pd\n",
    "import matplotlib.pyplot as plt\n",
    "assembler = VectorAssembler(inputCols=[c for c in data1.columns if c != 'Potability'], outputCol=\"features\")\n",
    "data1_features = assembler.transform(data1)\n",
    "\n",
    "# Create a K-means model and set the number of clusters to 2\n",
    "kmeans = KMeans().setK(2).setSeed(1).setFeaturesCol(\"features\")\n",
    "\n",
    "model = kmeans.fit(data1_features)\n",
    "\n",
    "predictions = model.transform(data1_features)\n",
    "\n",
    "pca = PCA(k=2, inputCol=\"features\", outputCol=\"pcaFeatures\")\n",
    "pcaModel = pca.fit(data1_features)\n",
    "pcaResult = pcaModel.transform(predictions).select(\"pcaFeatures\", \"prediction\")\n",
    "pandas_df = pcaResult.toPandas()\n",
    "\n",
    "pandas_df['pca1'] = pandas_df['pcaFeatures'].apply(lambda x: x[0])\n",
    "pandas_df['pca2'] = pandas_df['pcaFeatures'].apply(lambda x: x[1])\n",
    "\n",
    "fig, ax = plt.subplots()\n",
    "colors = {0: 'red', 1: 'blue'}\n",
    "\n",
    "ax.scatter(pandas_df['pca1'], pandas_df['pca2'], c=pandas_df['prediction'].apply(lambda x: colors[x]))\n",
    "plt.xlabel('Principal Component 1')\n",
    "plt.ylabel('Principal Component 2')\n",
    "plt.title('K-means Clustering with 2 Clusters')\n",
    "plt.show()\n",
    "\n",
    "from pyspark.ml.evaluation import ClusteringEvaluator\n",
    "\n",
    "evaluator = ClusteringEvaluator()\n",
    "silhouette = evaluator.evaluate(predictions)\n",
    "print(f\"Silhouette with squared euclidean distance = {silhouette}\")\n"
   ]
  },
  {
   "cell_type": "code",
   "execution_count": null,
   "id": "15acf0e0",
   "metadata": {},
   "outputs": [],
   "source": []
  }
 ],
 "metadata": {
  "kernelspec": {
   "display_name": "Python 3 (ipykernel)",
   "language": "python",
   "name": "python3"
  },
  "language_info": {
   "codemirror_mode": {
    "name": "ipython",
    "version": 3
   },
   "file_extension": ".py",
   "mimetype": "text/x-python",
   "name": "python",
   "nbconvert_exporter": "python",
   "pygments_lexer": "ipython3",
   "version": "3.10.4"
  }
 },
 "nbformat": 4,
 "nbformat_minor": 5
}
