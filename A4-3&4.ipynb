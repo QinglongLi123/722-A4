{
 "cells": [
  {
   "cell_type": "code",
   "execution_count": 82,
   "id": "33329579",
   "metadata": {},
   "outputs": [],
   "source": [
    "from pyspark.sql import SparkSession\n",
    "from pyspark.ml.feature import VectorAssembler, StandardScaler\n",
    "from pyspark.ml.classification import RandomForestClassifier\n",
    "from pyspark.ml.evaluation import BinaryClassificationEvaluator\n",
    "from pyspark.ml import Pipeline\n"
   ]
  },
  {
   "cell_type": "code",
   "execution_count": 83,
   "id": "287a0de6",
   "metadata": {},
   "outputs": [],
   "source": [
    "spark = SparkSession.builder.appName(\"WaterPotabilityPrediction\").getOrCreate()"
   ]
  },
  {
   "cell_type": "code",
   "execution_count": 84,
   "id": "2db0f126",
   "metadata": {},
   "outputs": [],
   "source": [
    "data = spark.read.csv(\"Water1.csv\", header=True, inferSchema=True)"
   ]
  },
  {
   "cell_type": "code",
   "execution_count": 85,
   "id": "c856a1fe",
   "metadata": {},
   "outputs": [
    {
     "name": "stdout",
     "output_type": "stream",
     "text": [
      "+-------+------------------+------------------+-----------------+------------------+------------------+------------------+------------------+------------------+------------------+-------------------+\n",
      "|summary|                ph|          Hardness|           Solids|       Chloramines|           Sulfate|      Conductivity|    Organic_carbon|   Trihalomethanes|         Turbidity|         Potability|\n",
      "+-------+------------------+------------------+-----------------+------------------+------------------+------------------+------------------+------------------+------------------+-------------------+\n",
      "|  count|              2293|              2293|             2293|              2293|              2293|              2293|              2293|              2293|              2293|               2293|\n",
      "|   mean| 7.086923773484187|196.39033467318723|22074.33533378741|  7.13298722773223|333.39334730577684|425.45570192935264|14.229174077558303| 66.49951785248768|3.9671531697581806|0.39031836022677713|\n",
      "| stddev| 1.471262458396401| 32.46063266722441| 8668.69390812667|1.5738789920188605| 36.11627101915496| 80.26665196147566| 3.341429166974116|16.067742286956953|0.7884800480665575|  0.487928031806015|\n",
      "|    min|               0.0|            47.432|      320.9426113|0.5303512946996154|180.20674636482343| 201.6197367551575|2.1999999999999886|0.7379999999999995|              1.45|                  0|\n",
      "|    max|13.999999999999998|317.33812405558257|56351.39630372492|13.043806107761023| 481.0306423059972| 753.3426195583046| 28.30000000000001|             124.0|             6.739|                  1|\n",
      "+-------+------------------+------------------+-----------------+------------------+------------------+------------------+------------------+------------------+------------------+-------------------+\n",
      "\n"
     ]
    }
   ],
   "source": [
    "columns_to_fill = ['ph']\n",
    "\n",
    "medians = {col: data.approxQuantile(col, [0.5], 0.0)[0] for col in columns_to_fill}\n",
    "\n",
    "\n",
    "for col, median in medians.items():\n",
    "    data = data.na.fill({col: median})\n",
    "\n",
    "\n",
    "data.describe().show()"
   ]
  },
  {
   "cell_type": "code",
   "execution_count": 86,
   "id": "3b7e4dec",
   "metadata": {},
   "outputs": [
    {
     "name": "stdout",
     "output_type": "stream",
     "text": [
      "+-----------------+------------------+------------------+------------------+------------------+------------------+------------------+------------------+------------------+----------+------------------+\n",
      "|               ph|          Hardness|            Solids|       Chloramines|           Sulfate|      Conductivity|    Organic_carbon|   Trihalomethanes|         Turbidity|Potability|   Hardness_Solids|\n",
      "+-----------------+------------------+------------------+------------------+------------------+------------------+------------------+------------------+------------------+----------+------------------+\n",
      "|7.080794504276835|219.67426193471448|22210.613083285505| 5.875041088125667| 333.7757766108135| 398.5177031387568|11.502315629592148|112.41221043181724|2.9942592099578635|         0| 4879100.036188256|\n",
      "|6.783888467541533|193.65358060131555| 13677.10644058598| 5.171453573375093| 323.7286632332804| 477.8546872578033|15.056064094821464| 66.39629294676803| 3.250022229204365|         0|2648620.6344847893|\n",
      "|6.010617576533585|184.55858174244537|15940.573270538474| 8.165222040842318| 421.4860891671315| 314.5298133899644| 20.31461673780456| 83.70793779298936| 4.867287404331263|         1|2941969.5949721145|\n",
      "|8.097453770731768| 218.9924361418924| 18112.28444651079| 6.196947393934283| 333.7757766108135| 376.5698033733333|       17.74626352|59.909940872345686| 4.279082403805938|         1|3966453.2950363047|\n",
      "|      8.072612403| 210.2697797493537| 16843.36392740596| 8.793458647829397| 359.5161693303079| 559.1675739231314|17.263576037622727| 68.73898910812215| 5.082206246764563|         0|3541650.4232538603|\n",
      "|6.552847474374976| 198.8069396513827| 34006.42073313584| 8.691206175159937|274.90435120291863| 477.1639067796365|14.369630090209853| 78.17306258634733| 4.687986155246704|         1| 6760712.434452066|\n",
      "|      8.923980608|135.93846747362704| 27919.77066575312| 12.36328482531005| 333.7757766108135| 415.6294837691602| 11.94991382091655| 69.31487957880282| 4.155583189522957|         1| 3795370.836517607|\n",
      "|      9.624726886|217.37277968545845| 25175.75415819416| 9.883945511518238|329.17445409836057|       394.0548353| 20.27757140763049| 85.84025770348191| 2.615257476344298|         1| 5472523.662044403|\n",
      "|7.046548537016283|128.48251739864054|       30569.81055| 4.449122632711616| 281.7247144955857|348.26459071234075|15.142005565420334| 58.15730431450026| 2.869226101819664|         1|  3927686.21586352|\n",
      "|8.137767883092494| 203.8618673386868| 24172.70331260775| 6.844017626422233|305.83257968719704|470.83626451802894|19.232961414138344|30.708421300394185| 5.003825786209145|         1| 4927892.435932277|\n",
      "|7.082300649174803| 169.4689272555765|29846.719056712125| 5.443386888459755|350.40184898110226|       353.0303803|18.959534377575096|30.389096114304888| 3.485577388223123|         1|5058091.4606395755|\n",
      "|6.084360116189226|155.27142514949526|27310.060847941597| 7.817129174994377| 333.7757766108135| 436.9889344088214|12.657512470315396| 66.39629294676803| 4.298110919527294|         1| 4240472.068779325|\n",
      "|7.080794504276835| 167.1044296160452| 30362.68394790395| 9.990332197218962| 362.2616360724188| 432.0307099061292| 9.971476405234055|       94.98410127| 3.346057063483423|         1| 5073738.982726742|\n",
      "|      5.716251354| 184.2292949772609| 19393.46986193756|       5.299163637|       290.2764546| 502.9936866234463|19.643895855680118| 68.23637027968861| 3.433135384725815|         1| 3572845.279827514|\n",
      "|5.827541211542772|191.00493039601548| 25863.34324460301| 4.823831505497687|       316.0255129| 370.3572882122672| 18.36185806407758|       48.65810862|3.1791287413400817|         1| 4940026.076243655|\n",
      "|4.227537385918204|201.44748661230827|13122.329581176047| 6.932557933203627| 374.8435383456557| 402.6607735191696|22.823293103832043| 76.46942648405707| 4.479628314203464|         0|2643460.3126262585|\n",
      "|7.080794504276835|253.14965119784927|       12037.77039|4.3843577068519615|325.41324793204274|422.38929182341286|13.168299231900846| 40.05215064769633|3.3999454918012777|         0| 3047357.375428298|\n",
      "|4.150214299745359|174.92674117052437|       41489.63981|       5.569868658| 333.7757766108135| 425.2500464971023|12.534008729084915| 86.68363454098444| 3.502370872206418|         0| 7257647.484302154|\n",
      "|7.233538435483265| 231.5608322393944|16621.494788968663|       6.073040907| 333.7757766108135| 475.8216448594685| 8.688714873315973| 35.83396852956144| 3.679015067771328|         0|3848887.1663963404|\n",
      "|6.352973105397818|244.84671672623384|13858.703935543015| 9.179441914873149| 333.7757766108135| 403.5604822630333|12.520126136193994|59.046993548815095| 4.155494640010193|         0|3393258.1566986428|\n",
      "+-----------------+------------------+------------------+------------------+------------------+------------------+------------------+------------------+------------------+----------+------------------+\n",
      "only showing top 20 rows\n",
      "\n",
      "+-------+------------------+------------------+-----------------+------------------+------------------+------------------+------------------+------------------+------------------+-------------------+--------------------+\n",
      "|summary|                ph|          Hardness|           Solids|       Chloramines|           Sulfate|      Conductivity|    Organic_carbon|   Trihalomethanes|         Turbidity|         Potability|     Hardness_Solids|\n",
      "+-------+------------------+------------------+-----------------+------------------+------------------+------------------+------------------+------------------+------------------+-------------------+--------------------+\n",
      "|  count|              2293|              2293|             2293|              2293|              2293|              2293|              2293|              2293|              2293|               2293|                2293|\n",
      "|   mean| 7.086923773484187|196.39033467318723|22074.33533378741|  7.13298722773223|333.39334730577684|425.45570192935264|14.229174077558303| 66.49951785248768|3.9671531697581806|0.39031836022677713|   4315084.798637388|\n",
      "| stddev| 1.471262458396401| 32.46063266722441| 8668.69390812667|1.5738789920188605| 36.11627101915496| 80.26665196147566| 3.341429166974116|16.067742286956953|0.7884800480665575|  0.487928031806015|  1833741.9120180649|\n",
      "|    min|               0.0|            47.432|      320.9426113|0.5303512946996154|180.20674636482343| 201.6197367551575|2.1999999999999886|0.7379999999999995|              1.45|                  0|   78086.84285699994|\n",
      "|    max|13.999999999999998|317.33812405558257|56351.39630372492|13.043806107761023| 481.0306423059972| 753.3426195583046| 28.30000000000001|             124.0|             6.739|                  1|1.3431988037977181E7|\n",
      "+-------+------------------+------------------+-----------------+------------------+------------------+------------------+------------------+------------------+------------------+-------------------+--------------------+\n",
      "\n"
     ]
    }
   ],
   "source": [
    "from pyspark.sql.functions import col\n",
    "data = data.withColumn('Hardness_Solids', col('hardness') * col('solids'))\n",
    "data.show()\n",
    "data.describe().show()"
   ]
  },
  {
   "cell_type": "code",
   "execution_count": 87,
   "id": "65a20be5",
   "metadata": {},
   "outputs": [
    {
     "data": {
      "image/png": "[encoded data removed]",
      "text/plain": [
       "<Figure size 432x288 with 1 Axes>"
      ]
     },
     "metadata": {
      "needs_background": "light"
     },
     "output_type": "display_data"
    }
   ],
   "source": [
    "import pandas as pd\n",
    "import matplotlib.pyplot as plt\n",
    "\n",
    "hardness_solids_pdf = data.select(\"Hardness_Solids\").toPandas()\n",
    "plt.hist(hardness_solids_pdf['Hardness_Solids'], bins=30, color='blue', alpha=0.7)\n",
    "plt.title('Histogram of Hardness_Solids')\n",
    "plt.xlabel('Hardness_Solids Value')\n",
    "plt.ylabel('Frequency')\n",
    "plt.grid(True)\n",
    "plt.show()"
   ]
  },
  {
   "cell_type": "code",
   "execution_count": 88,
   "id": "0cee3023",
   "metadata": {},
   "outputs": [
    {
     "name": "stdout",
     "output_type": "stream",
     "text": [
      "First DataFrame with first five columns:\n",
      "+-----------------+------------------+------------------+-----------------+-----------------+\n",
      "|               ph|          Hardness|            Solids|      Chloramines|          Sulfate|\n",
      "+-----------------+------------------+------------------+-----------------+-----------------+\n",
      "|7.080794504276835|219.67426193471448|22210.613083285505|5.875041088125667|333.7757766108135|\n",
      "|6.783888467541533|193.65358060131555| 13677.10644058598|5.171453573375093|323.7286632332804|\n",
      "|6.010617576533585|184.55858174244537|15940.573270538474|8.165222040842318|421.4860891671315|\n",
      "|8.097453770731768| 218.9924361418924| 18112.28444651079|6.196947393934283|333.7757766108135|\n",
      "|      8.072612403| 210.2697797493537| 16843.36392740596|8.793458647829397|359.5161693303079|\n",
      "+-----------------+------------------+------------------+-----------------+-----------------+\n",
      "only showing top 5 rows\n",
      "\n",
      "Second DataFrame with last six columns:\n",
      "+-----------------+------------------+------------------+------------------+----------+------------------+\n",
      "|     Conductivity|    Organic_carbon|   Trihalomethanes|         Turbidity|Potability|   Hardness_Solids|\n",
      "+-----------------+------------------+------------------+------------------+----------+------------------+\n",
      "|398.5177031387568|11.502315629592148|112.41221043181724|2.9942592099578635|         0| 4879100.036188256|\n",
      "|477.8546872578033|15.056064094821464| 66.39629294676803| 3.250022229204365|         0|2648620.6344847893|\n",
      "|314.5298133899644| 20.31461673780456| 83.70793779298936| 4.867287404331263|         1|2941969.5949721145|\n",
      "|376.5698033733333|       17.74626352|59.909940872345686| 4.279082403805938|         1|3966453.2950363047|\n",
      "|559.1675739231314|17.263576037622727| 68.73898910812215| 5.082206246764563|         0|3541650.4232538603|\n",
      "+-----------------+------------------+------------------+------------------+----------+------------------+\n",
      "only showing top 5 rows\n",
      "\n"
     ]
    }
   ],
   "source": [
    "all_columns = data.columns\n",
    "# The first DataFrame contains the first five variables\n",
    "first_five_columns = all_columns[:5]  # set columns is 5\n",
    "df_first_five = data.select(first_five_columns)\n",
    "\n",
    "# The second DataFrame contains the last six variables\n",
    "last_six_columns = all_columns[-6:]  # set columns is 6\n",
    "df_last_six = data.select(last_six_columns)\n",
    "# print first set\n",
    "print(\"First DataFrame with first five columns:\")\n",
    "df_first_five.show(5)\n",
    "\n",
    "# print second set\n",
    "print(\"Second DataFrame with last six columns:\")\n",
    "df_last_six.show(5)"
   ]
  },
  {
   "cell_type": "code",
   "execution_count": 89,
   "id": "014314f4",
   "metadata": {},
   "outputs": [
    {
     "name": "stdout",
     "output_type": "stream",
     "text": [
      "+-----------------+------------------+------------------+-----------------+-----------------+-----------------+------------------+------------------+------------------+----------+------------------+\n",
      "|               ph|          Hardness|            Solids|      Chloramines|          Sulfate|     Conductivity|    Organic_carbon|   Trihalomethanes|         Turbidity|Potability|   Hardness_Solids|\n",
      "+-----------------+------------------+------------------+-----------------+-----------------+-----------------+------------------+------------------+------------------+----------+------------------+\n",
      "|7.080794504276835|219.67426193471448|22210.613083285505|5.875041088125667|333.7757766108135|398.5177031387568|11.502315629592148|112.41221043181724|2.9942592099578635|         0| 4879100.036188256|\n",
      "|6.783888467541533|193.65358060131555| 13677.10644058598|5.171453573375093|323.7286632332804|477.8546872578033|15.056064094821464| 66.39629294676803| 3.250022229204365|         0|2648620.6344847893|\n",
      "|6.010617576533585|184.55858174244537|15940.573270538474|8.165222040842318|421.4860891671315|314.5298133899644| 20.31461673780456| 83.70793779298936| 4.867287404331263|         1|2941969.5949721145|\n",
      "|8.097453770731768| 218.9924361418924| 18112.28444651079|6.196947393934283|333.7757766108135|376.5698033733333|       17.74626352|59.909940872345686| 4.279082403805938|         1|3966453.2950363047|\n",
      "|      8.072612403| 210.2697797493537| 16843.36392740596|8.793458647829397|359.5161693303079|559.1675739231314|17.263576037622727| 68.73898910812215| 5.082206246764563|         0|3541650.4232538603|\n",
      "+-----------------+------------------+------------------+-----------------+-----------------+-----------------+------------------+------------------+------------------+----------+------------------+\n",
      "only showing top 5 rows\n",
      "\n"
     ]
    }
   ],
   "source": [
    "from pyspark.sql.functions import monotonically_increasing_id\n",
    "\n",
    "# Add row indexes to two DataFrames\n",
    "df_first_five = df_first_five.withColumn(\"row_id\", monotonically_increasing_id())\n",
    "df_last_six = df_last_six.withColumn(\"row_id\", monotonically_increasing_id())\n",
    "# Merge DataFrame by row index\n",
    "df_merged = df_first_five.join(df_last_six, \"row_id\", \"inner\").drop(\"row_id\")\n",
    "\n",
    "df_merged.show(5)"
   ]
  },
  {
   "cell_type": "code",
   "execution_count": 90,
   "id": "03dcb891",
   "metadata": {},
   "outputs": [
    {
     "name": "stdout",
     "output_type": "stream",
     "text": [
      "+-----------------+------------------+------------------+------------------+------------------+------------------+------------------+------------------+------------------+----------+------------------+------------------+------------------+------------------+------------------+------------------+------------------+------------------+-------------------+------------------+------------------+-------------------+\n",
      "|               ph|          Hardness|            Solids|       Chloramines|           Sulfate|      Conductivity|    Organic_carbon|   Trihalomethanes|         Turbidity|Potability|   Hardness_Solids|            ph_log|      Hardness_log|        Solids_log|   Chloramines_log|       Sulfate_log|  Conductivity_log|Organic_carbon_log|Trihalomethanes_log|     Turbidity_log|    Potability_log|Hardness_Solids_log|\n",
      "+-----------------+------------------+------------------+------------------+------------------+------------------+------------------+------------------+------------------+----------+------------------+------------------+------------------+------------------+------------------+------------------+------------------+------------------+-------------------+------------------+------------------+-------------------+\n",
      "|7.080794504276835|219.67426193471448|22210.613083285505| 5.875041088125667| 333.7757766108135| 398.5177031387568|11.502315629592148|112.41221043181724|2.9942592099578635|         0| 4879100.036188256|2.0894901974361844| 5.396687686320277|10.008370542944766|1.9278976199894187| 5.813460984178247| 5.990258077462967|2.5259138775188967|  4.731029061262617|1.3848581327269447|               0.0| 15.400471546964017|\n",
      "|6.783888467541533|193.65358060131555| 13677.10644058598| 5.171453573375093| 323.7286632332804| 477.8546872578033|15.056064094821464| 66.39629294676803| 3.250022229204365|         0|2648620.6344847893|2.0520560163562735| 5.271221468962107| 9.523551763510055|1.8199343974278794|5.7829899512622225| 6.171397184491932|  2.77608660344057|   4.21059001561587| 1.446924213323674|               0.0| 14.789549924713478|\n",
      "|6.010617576533585|184.55858174244537|15940.573270538474| 8.165222040842318| 421.4860891671315| 314.5298133899644| 20.31461673780456| 83.70793779298936| 4.867287404331263|         1|2941969.5949721145|1.9474257965288286| 5.223370636733216| 9.676685647005627|2.2154161080404586| 6.046156521206978|   5.7542531732061|3.0593930691877964|  4.439209313831105| 1.769392415335237|0.6931471805599453| 14.894590185182665|\n",
      "|8.097453770731768| 218.9924361418924| 18112.28444651079| 6.196947393934283| 333.7757766108135| 376.5698033733333|       17.74626352|59.909940872345686| 4.279082403805938|         1|3966453.2950363047|2.2079945689558746| 5.393593164588099| 9.804400895367335|1.9736569630553353| 5.813460984178247|  5.93375546119364|2.9309944536244017| 4.1093963941098774|1.6637522954574657|0.6931471805599453| 15.193383128913903|\n",
      "|      8.072612403| 210.2697797493537| 16843.36392740596| 8.793458647829397| 359.5161693303079| 559.1675739231314|17.263576037622727| 68.73898910812215| 5.082206246764563|         0|3541650.4232538603| 2.205260249446913| 5.353135893803689| 9.731771394807499|2.2817146778939232| 5.887536808230417|  6.32823597811454|2.9049086959501143|  4.244759545990774|1.8053674996904943|               0.0| 15.080103680074943|\n",
      "|6.552847474374976| 198.8069396513827| 34006.42073313584| 8.691206175159937|274.90435120291863| 477.1639067796365|14.369630090209853| 78.17306258634733| 4.687986155246704|         1| 6760712.434452066|2.0219246410819927|  5.29735159860118|10.434334036640672|2.2712188944368408| 5.620054252040956|   6.1699535749269|  2.73239349026088|  4.371636122107591|1.7383562584696204|0.6931471805599453|  15.72663898009128|\n",
      "|      8.923980608|135.93846747362704| 27919.77066575312| 12.36328482531005| 333.7757766108135| 415.6294837691602| 11.94991382091655| 69.31487957880282| 4.155583189522957|         1| 3795370.836517607|2.2949541117768595| 4.919531682405138| 10.23712615913695| 2.592511008045324| 5.813460984178247| 6.032197298692189| 2.561089133367925| 4.2529834347246105|1.6400802419184057|0.6931471805599453|  15.14929294464913|\n",
      "|      9.624726886|217.37277968545845| 25175.75415819416| 9.883945511518238|329.17445409836057|       394.0548353| 20.27757140763049| 85.84025770348191| 2.615257476344298|         1| 5472523.662044403|2.3631840096330463| 5.386203600963303|10.133676393737046| 2.387288814616502| 5.799621163557896| 5.979024578810329|  3.05765353237935|  4.464070312572269|1.2851630775126448|0.6931471805599453| 15.515250614909778|\n",
      "|7.046548537016283|128.48251739864054|       30569.81055| 4.449122632711616| 281.7247144955857|348.26459071234075|15.142005565420334| 58.15730431450026| 2.869226101819664|         1|  3927686.21586352|2.0852432463238735| 4.863545871243468|10.327800929090131|1.6954546108921482| 5.644473683926076| 5.855829774536697|  2.78142491568098| 4.0802000707885515|1.3530545133542768|0.6931471805599453|  15.18356131592326|\n",
      "|8.137767883092494| 203.8618673386868| 24172.70331260775| 6.844017626422233|305.83257968719704|470.83626451802894|19.232961414138344|30.708421300394185| 5.003825786209145|         1| 4927892.435932277|2.2124161415372727|  5.32233593416106|10.093020681348628|2.0597511554532266| 5.726302255795153| 6.156632028195235|3.0073130277195874| 3.4565823017667388|1.7923968970626174|0.6931471805599453| 15.410422159759632|\n",
      "|7.082300649174803| 169.4689272555765|29846.719056712125| 5.443386888459755|350.40184898110226|       353.0303803|18.959534377575096|30.389096114304888| 3.485577388223123|         1|5058091.4606395755| 2.089676565812789| 5.138553035279635|10.303863702390606|1.8630543162288793| 5.861930437495278| 5.869382729507941|2.9937069428344225|  3.446460575100144|1.5008672248442088|0.6931471805599453| 15.436499986123968|\n",
      "|6.084360116189226|155.27142514949526|27310.060847941597| 7.817129174994377| 333.7757766108135| 436.9889344088214|12.657512470315396| 66.39629294676803| 4.298110919527294|         1| 4240472.068779325|1.9578895537766368|5.0515944001730615|10.215047058383458| 2.176696326671765| 5.813460984178247|6.0821936461505075| 2.614289734361849|   4.21059001561587|1.6673503267438377|0.6931471805599453| 15.260185393809667|\n",
      "|7.080794504276835| 167.1044296160452| 30362.68394790395| 9.990332197218962| 362.2616360724188| 432.0307099061292| 9.971476405234055|       94.98410127| 3.346057063483423|         1| 5073738.982726742|2.0894901974361844| 5.124585391144395|10.321002566305776|2.3970159951851717| 5.895123335171802|  6.07080864905827|2.3952988509408715|  4.564182565981859|1.4692690118638747|0.6931471805599453|  15.43958877280006|\n",
      "|      5.716251354| 184.2292949772609| 19393.46986193756|       5.299163637|       290.2764546| 502.9936866234463|19.643895855680118| 68.23637027968861| 3.433135384725815|         1| 3572845.279827514|1.9045301646614694| 5.221594489925698| 9.872743245751463| 1.840416868552879| 5.674272831999638|  6.22256374145213| 3.027419675499493|  4.237526306630166|1.4891070955009085|0.6931471805599453| 15.088873113361743|\n",
      "|5.827541211542772|191.00493039601548| 25863.34324460301| 4.823831505497687|       316.0255129| 370.3572882122672| 18.36185806407758|       48.65810862|3.1791287413400817|         1| 4940026.076243655|1.9209646104577616| 5.257521050843992|10.160620590450947|  1.76195837941435| 5.758982252973136| 5.917164640184372| 2.963305051627357| 3.9051616927659043|1.4301027897249485|0.6931471805599453| 15.412881370170068|\n",
      "|4.227537385918204|201.44748661230827|13122.329581176047| 6.932557933203627| 374.8435383456557| 402.6607735191696|22.823293103832043| 76.46942648405707| 4.479628314203464|         0|2643460.3126262585|1.6539403040728309| 5.310480527544638| 9.482146809354676| 2.070975547720354| 5.929172935366222| 6.000574855734245|3.1706638039027206|  4.349883361544988|1.7010372727843652|               0.0| 14.787599719644653|\n",
      "|7.080794504276835|253.14965119784927|       12037.77039|4.3843577068519615|325.41324793204274|422.38929182341286|13.168299231900846| 40.05215064769633|3.3999454918012777|         0| 3047357.375428298|2.0894901974361844| 5.537923271465644| 9.395887586571074|1.6834980290009833| 5.788164210293372| 6.048292067458442|2.6510070205215377| 3.7148432254565633|1.4815921526204985|               0.0| 14.929785666879772|\n",
      "|4.150214299745359|174.92674117052437|       41489.63981|       5.569868658| 333.7757766108135| 425.2500464971023|12.534008729084915| 86.68363454098444| 3.502370872206418|         0| 7257647.484302154|1.6390383254109469| 5.170067665035549| 10.63322313403231| 1.882493841124699| 5.813460984178247| 6.055026137681832| 2.605205682784328|  4.473735274678451|1.5046041185243308|               0.0| 15.797566434100105|\n",
      "|7.233538435483265| 231.5608322393944|16621.494788968663|       6.073040907| 333.7757766108135| 475.8216448594685| 8.688714873315973| 35.83396852956144| 3.679015067771328|         0|3848887.1663963404|2.1082158658478427| 5.449151834844985| 9.718512164783926|1.9562905015801793| 5.813460984178247| 6.167142510818647|2.2709617930945334| 3.6064204772874664|  1.54308763217625|               0.0| 15.163294876607695|\n",
      "|6.352973105397818|244.84671672623384|13858.703935543015| 9.179441914873149| 333.7757766108135| 403.5604822630333|12.520126136193994|59.046993548815095| 4.155494640010193|         0|3393258.1566986428|1.9951047355707603| 5.504708238984286| 9.536740911443811|2.3203701878979164| 5.813460984178247| 6.002801248839025| 2.604179400171445| 4.0951274814744085|1.6400630663109221|               0.0| 15.037301420660555|\n",
      "+-----------------+------------------+------------------+------------------+------------------+------------------+------------------+------------------+------------------+----------+------------------+------------------+------------------+------------------+------------------+------------------+------------------+------------------+-------------------+------------------+------------------+-------------------+\n",
      "only showing top 20 rows\n",
      "\n",
      "['ph', 'Hardness', 'Solids', 'Chloramines', 'Sulfate', 'Conductivity', 'Organic_carbon', 'Trihalomethanes', 'Turbidity', 'Potability', 'Hardness_Solids', 'ph_log', 'Hardness_log', 'Solids_log', 'Chloramines_log', 'Sulfate_log', 'Conductivity_log', 'Organic_carbon_log', 'Trihalomethanes_log', 'Turbidity_log', 'Potability_log', 'Hardness_Solids_log']\n"
     ]
    }
   ],
   "source": [
    "from pyspark.sql import SparkSession\n",
    "from pyspark.sql.functions import col, log1p\n",
    "from pyspark.sql.types import IntegerType, DoubleType\n",
    "# Identify numeric columns\n",
    "numeric_cols = [f.name for f in data.schema.fields if isinstance(f.dataType, (IntegerType, DoubleType))]\n",
    "# Apply a logarithmic transformation to each numeric column\n",
    "for col_name in numeric_cols:\n",
    "    data = data.withColumn(f\"{col_name}_log\", log1p(col(col_name)))\n",
    "data.show()\n",
    "print(data.columns)"
   ]
  },
  {
   "cell_type": "code",
   "execution_count": 91,
   "id": "884dc3b0",
   "metadata": {},
   "outputs": [
    {
     "name": "stdout",
     "output_type": "stream",
     "text": [
      "+-------+------------------+------------------+-----------------+------------------+------------------+------------------+------------------+------------------+------------------+-------------------+--------------------+-------------------+------------------+-------------------+-------------------+-----------------+-------------------+-------------------+-------------------+-------------------+-------------------+-------------------+\n",
      "|summary|                ph|          Hardness|           Solids|       Chloramines|           Sulfate|      Conductivity|    Organic_carbon|   Trihalomethanes|         Turbidity|         Potability|     Hardness_Solids|             ph_log|      Hardness_log|         Solids_log|    Chloramines_log|      Sulfate_log|   Conductivity_log| Organic_carbon_log|Trihalomethanes_log|      Turbidity_log|     Potability_log|Hardness_Solids_log|\n",
      "+-------+------------------+------------------+-----------------+------------------+------------------+------------------+------------------+------------------+------------------+-------------------+--------------------+-------------------+------------------+-------------------+-------------------+-----------------+-------------------+-------------------+-------------------+-------------------+-------------------+-------------------+\n",
      "|  count|              1892|              1892|             1892|              1892|              1892|              1892|              1892|              1892|              1892|               1892|                1892|               1892|              1892|               1892|               1892|             1892|               1892|               1892|               1892|               1892|               1892|               1892|\n",
      "|   mean| 7.082163632636817|196.22772819297796|22209.63261169171|  7.13727439149923| 332.7445519665891|426.44508662895436|14.216201957598903| 66.66902630378746|3.9542100387298342| 0.3927061310782241|    4339855.07372883| 2.0712134581461688| 5.269658822176284|  9.917124780975003|  2.076072186822056|5.804391317191622|  6.039998322961303|  2.696483856920593|  4.182554616980563| 1.5870286839383014|0.27220314754547587| 15.181481415998759|\n",
      "| stddev|1.4837990950320483|32.708876469941536|8859.029281159288| 1.581369840686472| 35.98755866779398| 80.35981583747731|3.3332705373820364|15.896539821753981|0.7890757496450895|0.48848146648934915|  1876692.7555655385|0.20044165939855493|0.1756792417796622|0.46265418361668464|0.20811372753134127|0.110633238627937|0.18992779798528747|0.23421205549918328| 0.2718874414262569|0.16483403344268346|0.33858955125287954| 0.4836635949806627|\n",
      "|    min|               0.0|            47.432|      320.9426113|0.5303512946996154|180.20674636482343| 201.6197367551575|2.1999999999999886|0.7379999999999995|              1.45|                  0|   78086.84285699994|                0.0| 3.880160752279363|   5.77437330388391|0.42549731342812636|5.199638624509749| 5.3113310044200555| 1.1631508098056773| 0.5527350268432001| 0.8960880245566356|                0.0|  11.26558966246931|\n",
      "|    max|13.999999999999998|317.33812405558257|56351.39630372492|13.043806107761023| 481.0306423059972| 753.3426195583046| 28.30000000000001|             124.0| 6.494748555990993|                  1|1.3431988037977181E7|   2.70805020110221| 5.763114101088644| 10.939380043918225| 2.6421814521556994|6.178007685278864|  6.625846667395582|  3.377587516023022| 4.8283137373023015|   2.01420258275845| 0.6931471805599453|   16.4131496616267|\n",
      "+-------+------------------+------------------+-----------------+------------------+------------------+------------------+------------------+------------------+------------------+-------------------+--------------------+-------------------+------------------+-------------------+-------------------+-----------------+-------------------+-------------------+-------------------+-------------------+-------------------+-------------------+\n",
      "\n"
     ]
    }
   ],
   "source": [
    "data1, _ = data.randomSplit([0.8, 0.2], seed=42)\n",
    "data1.describe().show()"
   ]
  },
  {
   "cell_type": "code",
   "execution_count": 92,
   "id": "edc22144",
   "metadata": {},
   "outputs": [
    {
     "name": "stdout",
     "output_type": "stream",
     "text": [
      "+------------------+------------------+------------------+------------------+------------------+------------------+------------------+------------------+------------------+----------+--------------------+-------------------+------------------+------------------+------------------+------------------+------------------+------------------+-------------------+------------------+-------------------+\n",
      "|                ph|          Hardness|            Solids|       Chloramines|           Sulfate|      Conductivity|    Organic_carbon|   Trihalomethanes|         Turbidity|Potability|     Hardness_Solids|             ph_log|      Hardness_log|        Solids_log|   Chloramines_log|       Sulfate_log|  Conductivity_log|Organic_carbon_log|Trihalomethanes_log|     Turbidity_log|Hardness_Solids_log|\n",
      "+------------------+------------------+------------------+------------------+------------------+------------------+------------------+------------------+------------------+----------+--------------------+-------------------+------------------+------------------+------------------+------------------+------------------+------------------+-------------------+------------------+-------------------+\n",
      "|               0.0|214.84614399470732|       49456.58711| 7.897539036774782| 333.7757766108135| 583.4488493097667| 7.702328207475318| 77.71289111623837| 4.928839979650702|         0|1.0625557035721846E7|                0.0| 5.374565857559812|10.808870755210911| 2.185774725779468| 5.813460984178247|6.3706692652089405| 2.163590599913989|  4.365806942724077|1.7798285749278338|  16.17877279240469|\n",
      "|0.2274990502021987| 152.5301111764229| 39028.59934029076|3.4624920476792767|283.69378223429663| 443.0292321286284|13.201943203829217| 62.32271110691731| 3.545741437567914|         1|   5953036.596434616|0.20497880692020967| 5.033896711805392|10.572075594692578|1.4957073650715145| 5.651414154334566| 6.095890398392532|2.6533788005848313| 4.1482440500614475| 1.514190846902969| 15.599412167659782|\n",
      "|1.4317815547427415| 228.1303828552258|12937.246890752847| 6.214772832308696| 319.7341364581184| 495.3798826950329|12.033343963332584| 61.14111864040949| 4.948442555998784|         0|  2951379.0862800265| 0.8886241388291023| 5.434291198978186| 9.467943079027583| 1.976130706256656|5.7706125446206675|6.2073415261092215| 2.567510993923843|  4.129407905740582|  1.78312942999932|  14.89778344477724|\n",
      "| 1.757037115490783|147.58183139318666| 41538.24273000266| 7.728177044016057|        376.012933| 428.4448225200992|10.828696338235147| 65.00583980748948|2.9675541301719317|         1|   6130289.934948514| 1.0141565942255393| 5.001135859621492|10.634393867365109| 2.166556532928163| 5.932279491899394|  6.06249326406807|2.4705284722758694|  4.189743220043789|1.3781498167209287| 15.628752767626052|\n",
      "| 1.844538366498842| 233.7643427207269| 28689.59577768293| 7.724432299963912| 333.7757766108135| 410.3872638377081|15.611859296305228| 54.29944409418921| 5.013463351103733|         0|  6706604.4998933915| 1.0454007930764158|5.4585822140738465|10.264324674799637| 2.166127400064898| 5.813460984178247| 6.019535018639762|2.8101168557293392|  4.012762855931455|1.7940008473130684| 15.718603494191887|\n",
      "| 2.376768075959951|129.86397280975163| 11684.11163739329| 9.974807880251229| 301.4297472651064| 503.9103898314133| 8.741257762405041| 76.31069467654957|3.6292177681489743|         0|  1517345.1559845447| 1.2169190615087313| 4.874158408217744| 9.366070800833464| 2.395602453591728| 5.711849010052979| 6.224380967651587| 2.276370243034553|  4.347832298889601|  1.53238790526079| 14.232473416865162|\n",
      "|2.5692435620279186| 201.6032843097114| 48204.17219241039| 6.380683612713321| 261.7199596451187|429.74642958279424|10.784140412248064| 79.71966628814948| 5.506934431690963|         0|   9718119.431420796| 1.2723536859531062| 5.311249802491242|  10.7832216011782|1.9988662647714055| 5.571088672659905| 6.065519586535135|2.4667545945890064|   4.39098224184639|1.8728684438816205| 16.089502786484985|\n",
      "| 2.612035914817261|188.80412573040883| 34798.25258680311|       6.796439154| 333.7757766108135| 468.0802666084355|       13.17076321|49.523769983067695| 4.765205370159007|         0|   6570053.656597299| 1.2842715786994534|5.2459926231914675|10.457351188141208|2.0536671107412023| 5.813460984178247| 6.150773897957236|2.6511809132260273| 3.9224439182742517|1.7518407767047308| 15.698032709542979|\n",
      "| 2.690831240408815| 151.7829056695985|30204.546735065484|       6.053071945|303.70240924515167|        377.198273|14.121049228213735| 45.60299203520432| 4.650033779162522|         0|   4584533.867881424| 1.3058517010867916| 5.029017996584008|10.315780853222316|1.9534632587978642| 5.719335592902155|  5.93541858984693|2.7160877617441557| 3.8416647458344753|1.7316615237533135| 15.338199212044964|\n",
      "|        2.92517432|260.45804113718805| 39233.09883885389|7.6701494862203985|303.40207845554824| 403.2437351708769|11.309210335190585| 69.23844469184576| 3.678588221192268|         0| 1.021857607130957E7| 1.3674107629870087| 5.566273816088469|10.577301516000459|2.1598860324224054| 5.718349454004786| 6.002018000924333|2.5103477899008055|  4.251895806311857|1.5429964022819758| 16.139717903233308|\n",
      "| 2.974429410478532|147.14867466153368|17326.202252565254|2.4985967213169733|393.16874459712665| 375.4114700560018|12.798186810813547| 76.41306856908497|2.7799018424746342|         1|  2549527.6983826566|   1.37988119326909| 4.998216328056736| 9.760032930124966|1.2523619513321536|5.9767791033892665|5.9306828802968825| 2.624537193009911|  4.349155610904864|1.3296980416950293| 14.751419075888855|\n",
      "|3.1020755653395566|198.48865056001767| 45148.80811766023| 7.821650422876534|324.64407957923544| 427.2167644660192| 15.53012277971635|54.574254304233314|4.2480753693420485|         0|   8961525.997667551| 1.4114930810649984| 5.295757345288183| 10.71774130895039| 2.177208975288534| 5.785805004508508| 6.059629526407462| 2.805184339495387|   4.01772004193268|1.6578614130748757| 16.008451194277445|\n",
      "|       3.148712285|142.27208424350587| 23257.20883365817| 8.279275414450787|293.16079970939967| 391.8413032158793| 8.923593870388572|       68.31661212|3.4656378359366347|         0|   3308851.574451024|   1.42279799332076| 4.964745509461263|10.054413416815953|2.2277834634103257| 5.684126555609799| 5.973405721705615|2.2949151410087287|  4.238684590600569| 1.496412056519454|  15.01211203301037|\n",
      "| 3.388090610523891| 212.0289444657202|20230.125576951767| 8.569781529733312|       349.1559987| 353.9129274416658|18.208339671899864| 82.38787399017336| 2.798600948267049|         0|   4289372.172490052| 1.4788941918178078| 5.361428045987705| 9.914977567613098| 2.258610376545279| 5.858378765755436| 5.871872484578421| 2.955344542639097|  4.423502902992428| 1.334632827431899|  15.27165116658988|\n",
      "|       3.410359671|207.39747285508693| 49074.73040737054| 5.667433467359569|301.97501115806807| 351.5203925762217|15.987370336181527| 86.63918585754533| 3.721765768518896|         0| 1.017797506753334E7| 1.4839562441829643| 5.339447183390557|10.801119902525917|1.8972349983755117|5.7136503306828965| 5.865108471859064|2.8324701465522684|  4.473228225062315|1.5521828331379632|  16.13573673473626|\n",
      "| 3.434855759978651|185.34296149450563|        22690.2444| 8.150954367608389| 309.2176506941581| 398.3701304504024|10.034950251448151| 55.94732217242327|5.3895102460791104|         0|   4205477.094130122| 1.4894950921162289|5.2275888548578076|10.029734419813446|2.2138581763191674| 5.737274150136397| 5.989888632132025|2.4010675314473504|  4.042126668110305|1.8546576216460708| 15.251898541508888|\n",
      "|3.4450618643852127|207.92626018799376|       33424.76868| 8.782147480773485| 384.0070058017212| 441.7858756739387| 13.80590221127079|30.284597198002704| 4.184396969028851|         0|   6949887.149281185| 1.4917937866159714| 5.341981367641446| 10.41708239886353| 2.280559038754022| 5.953261531009811| 6.093086302570405| 2.695025899330096| 3.4431258741237993| 1.645653531933946| 15.754236123782865|\n",
      "| 3.514545528745279|158.73207576140192|23029.663613563636| 6.821679099461131| 286.5228468169785| 307.3791420351913|       9.712231911| 79.85092857457249| 3.762615331099367|         0|   3655546.309467784| 1.5073045237173741|  5.07349788515599|10.044581807578203|2.0568992501096477|5.6613023242695455| 5.731330006571852| 2.371386257799779|  4.392607071109574|1.5607969566634086| 15.111756382628146|\n",
      "| 3.623165848258656|156.89891668869294|26738.525360886008|       5.023142591| 388.7522530536979|388.75262033130286| 17.19601210467721| 63.56487021843476| 5.370205548696381|         1|   4195245.662976157|  1.531079718958902|5.0619550604951415|10.193898100344546| 1.795609148196093|  5.96551128868756| 5.965512231023183| 2.901202454945897|  4.167670458204978|1.8516317373046536| 15.249462695434014|\n",
      "| 3.637170625355805|238.94374429692908|10102.489720279777| 7.532191965992924| 337.5344254868793| 509.1503233017944|13.818450253490084|49.652834136859504| 5.446565702616764|         1|  2413926.7204848854| 1.5341044012291802| 5.480404497103512|  9.22063616001153| 2.143846299886341| 5.824625787290174| 6.234705433859807|2.6958730431105145|  3.924995184447307|1.8635475397995622| 14.696765738387242|\n",
      "+------------------+------------------+------------------+------------------+------------------+------------------+------------------+------------------+------------------+----------+--------------------+-------------------+------------------+------------------+------------------+------------------+------------------+------------------+-------------------+------------------+-------------------+\n",
      "only showing top 20 rows\n",
      "\n"
     ]
    }
   ],
   "source": [
    "data1 = data1.drop('Potability_log')\n",
    "data1.show()"
   ]
  },
  {
   "cell_type": "code",
   "execution_count": 93,
   "id": "34873c15",
   "metadata": {},
   "outputs": [],
   "source": [
    "from pyspark.ml.feature import VectorAssembler, StringIndexer\n",
    "from pyspark.ml import Pipeline\n",
    "\n",
    "indexer = StringIndexer(inputCol=\"Potability\", outputCol=\"label\")\n",
    "\n",
    "assembler = VectorAssembler(inputCols=[c for c in data1.columns if c != 'Potability'], outputCol=\"features\")\n",
    "\n",
    "pipeline = Pipeline(stages=[indexer, assembler])\n",
    "data1_transformed = pipeline.fit(data1).transform(data1)\n"
   ]
  },
  {
   "cell_type": "code",
   "execution_count": 94,
   "id": "bc53b321",
   "metadata": {},
   "outputs": [],
   "source": [
    "from pyspark.ml.classification import RandomForestClassifier\n",
    "\n",
    "# Creating a Random Forest Classifier\n",
    "rf = RandomForestClassifier(featuresCol=\"features\", labelCol=\"label\", numTrees=20)\n",
    "\n",
    "model = rf.fit(data1_transformed)\n",
    "\n",
    "importances = model.featureImportances"
   ]
  },
  {
   "cell_type": "code",
   "execution_count": 95,
   "id": "106e0a26",
   "metadata": {},
   "outputs": [
    {
     "name": "stdout",
     "output_type": "stream",
     "text": [
      "Feature Importances:\n",
      "Sulfate_log: 0.1502479926680869\n",
      "Sulfate: 0.10275512747429456\n",
      "ph: 0.09049722655400233\n",
      "Hardness: 0.08013522797300476\n",
      "ph_log: 0.06480136719972057\n",
      "Chloramines: 0.05459204054309309\n",
      "Solids: 0.05065409285410421\n",
      "Hardness_log: 0.05027288174932938\n",
      "Solids_log: 0.0469397475644773\n",
      "Chloramines_log: 0.04348616136481619\n",
      "Turbidity: 0.04064239281810452\n",
      "Hardness_Solids_log: 0.03573091647922187\n",
      "Conductivity_log: 0.028361194125556134\n",
      "Hardness_Solids: 0.024465852703800983\n",
      "Organic_carbon_log: 0.024166352387699853\n",
      "Conductivity: 0.02384021299665307\n",
      "Trihalomethanes_log: 0.023795354628205593\n",
      "Organic_carbon: 0.022748573522402185\n",
      "Trihalomethanes: 0.022725739343014258\n",
      "Turbidity_log: 0.019141545050412122\n"
     ]
    },
    {
     "data": {
      "image/png": "[encoded data removed]",
      "text/plain": [
       "<Figure size 864x576 with 1 Axes>"
      ]
     },
     "metadata": {
      "needs_background": "light"
     },
     "output_type": "display_data"
    }
   ],
   "source": [
    "feature_names = [c for c in data1.columns if c != 'Potability']\n",
    "\n",
    "print(\"Feature Importances:\")\n",
    "sorted_importances = sorted(zip(feature_names, importances), key=lambda x: x[1], reverse=True)\n",
    "for name, imp in sorted_importances:\n",
    "    print(f\"{name}: {imp}\")\n",
    "    \n",
    "import matplotlib.pyplot as plt\n",
    "\n",
    "feature_names, importances = zip(*sorted_importances)\n",
    "\n",
    "plt.figure(figsize=(12, 8))\n",
    "plt.barh(feature_names, importances, color='skyblue')\n",
    "plt.xlabel('Importance')\n",
    "plt.ylabel('Features')\n",
    "plt.title('Feature Importance')\n",
    "plt.show()\n"
   ]
  },
  {
   "cell_type": "code",
   "execution_count": 96,
   "id": "08ad48d3",
   "metadata": {},
   "outputs": [
    {
     "name": "stdout",
     "output_type": "stream",
     "text": [
      "+------------------+------------------+------------------+------------------+------------------+------------------+------------------+----------+--------------------+-------------------+------------------+------------------+------------------+------------------+------------------+------------------+-------------------+-------------------+\n",
      "|                ph|          Hardness|            Solids|       Chloramines|           Sulfate|      Conductivity|         Turbidity|Potability|     Hardness_Solids|             ph_log|      Hardness_log|        Solids_log|   Chloramines_log|       Sulfate_log|  Conductivity_log|Organic_carbon_log|Trihalomethanes_log|Hardness_Solids_log|\n",
      "+------------------+------------------+------------------+------------------+------------------+------------------+------------------+----------+--------------------+-------------------+------------------+------------------+------------------+------------------+------------------+------------------+-------------------+-------------------+\n",
      "|               0.0|214.84614399470732|       49456.58711| 7.897539036774782| 333.7757766108135| 583.4488493097667| 4.928839979650702|         0|1.0625557035721846E7|                0.0| 5.374565857559812|10.808870755210911| 2.185774725779468| 5.813460984178247|6.3706692652089405| 2.163590599913989|  4.365806942724077|  16.17877279240469|\n",
      "|0.2274990502021987| 152.5301111764229| 39028.59934029076|3.4624920476792767|283.69378223429663| 443.0292321286284| 3.545741437567914|         1|   5953036.596434616|0.20497880692020967| 5.033896711805392|10.572075594692578|1.4957073650715145| 5.651414154334566| 6.095890398392532|2.6533788005848313| 4.1482440500614475| 15.599412167659782|\n",
      "|1.4317815547427415| 228.1303828552258|12937.246890752847| 6.214772832308696| 319.7341364581184| 495.3798826950329| 4.948442555998784|         0|  2951379.0862800265| 0.8886241388291023| 5.434291198978186| 9.467943079027583| 1.976130706256656|5.7706125446206675|6.2073415261092215| 2.567510993923843|  4.129407905740582|  14.89778344477724|\n",
      "| 1.757037115490783|147.58183139318666| 41538.24273000266| 7.728177044016057|        376.012933| 428.4448225200992|2.9675541301719317|         1|   6130289.934948514| 1.0141565942255393| 5.001135859621492|10.634393867365109| 2.166556532928163| 5.932279491899394|  6.06249326406807|2.4705284722758694|  4.189743220043789| 15.628752767626052|\n",
      "| 1.844538366498842| 233.7643427207269| 28689.59577768293| 7.724432299963912| 333.7757766108135| 410.3872638377081| 5.013463351103733|         0|  6706604.4998933915| 1.0454007930764158|5.4585822140738465|10.264324674799637| 2.166127400064898| 5.813460984178247| 6.019535018639762|2.8101168557293392|  4.012762855931455| 15.718603494191887|\n",
      "| 2.376768075959951|129.86397280975163| 11684.11163739329| 9.974807880251229| 301.4297472651064| 503.9103898314133|3.6292177681489743|         0|  1517345.1559845447| 1.2169190615087313| 4.874158408217744| 9.366070800833464| 2.395602453591728| 5.711849010052979| 6.224380967651587| 2.276370243034553|  4.347832298889601| 14.232473416865162|\n",
      "|2.5692435620279186| 201.6032843097114| 48204.17219241039| 6.380683612713321| 261.7199596451187|429.74642958279424| 5.506934431690963|         0|   9718119.431420796| 1.2723536859531062| 5.311249802491242|  10.7832216011782|1.9988662647714055| 5.571088672659905| 6.065519586535135|2.4667545945890064|   4.39098224184639| 16.089502786484985|\n",
      "| 2.612035914817261|188.80412573040883| 34798.25258680311|       6.796439154| 333.7757766108135| 468.0802666084355| 4.765205370159007|         0|   6570053.656597299| 1.2842715786994534|5.2459926231914675|10.457351188141208|2.0536671107412023| 5.813460984178247| 6.150773897957236|2.6511809132260273| 3.9224439182742517| 15.698032709542979|\n",
      "| 2.690831240408815| 151.7829056695985|30204.546735065484|       6.053071945|303.70240924515167|        377.198273| 4.650033779162522|         0|   4584533.867881424| 1.3058517010867916| 5.029017996584008|10.315780853222316|1.9534632587978642| 5.719335592902155|  5.93541858984693|2.7160877617441557| 3.8416647458344753| 15.338199212044964|\n",
      "|        2.92517432|260.45804113718805| 39233.09883885389|7.6701494862203985|303.40207845554824| 403.2437351708769| 3.678588221192268|         0| 1.021857607130957E7| 1.3674107629870087| 5.566273816088469|10.577301516000459|2.1598860324224054| 5.718349454004786| 6.002018000924333|2.5103477899008055|  4.251895806311857| 16.139717903233308|\n",
      "| 2.974429410478532|147.14867466153368|17326.202252565254|2.4985967213169733|393.16874459712665| 375.4114700560018|2.7799018424746342|         1|  2549527.6983826566|   1.37988119326909| 4.998216328056736| 9.760032930124966|1.2523619513321536|5.9767791033892665|5.9306828802968825| 2.624537193009911|  4.349155610904864| 14.751419075888855|\n",
      "|3.1020755653395566|198.48865056001767| 45148.80811766023| 7.821650422876534|324.64407957923544| 427.2167644660192|4.2480753693420485|         0|   8961525.997667551| 1.4114930810649984| 5.295757345288183| 10.71774130895039| 2.177208975288534| 5.785805004508508| 6.059629526407462| 2.805184339495387|   4.01772004193268| 16.008451194277445|\n",
      "|       3.148712285|142.27208424350587| 23257.20883365817| 8.279275414450787|293.16079970939967| 391.8413032158793|3.4656378359366347|         0|   3308851.574451024|   1.42279799332076| 4.964745509461263|10.054413416815953|2.2277834634103257| 5.684126555609799| 5.973405721705615|2.2949151410087287|  4.238684590600569|  15.01211203301037|\n",
      "| 3.388090610523891| 212.0289444657202|20230.125576951767| 8.569781529733312|       349.1559987| 353.9129274416658| 2.798600948267049|         0|   4289372.172490052| 1.4788941918178078| 5.361428045987705| 9.914977567613098| 2.258610376545279| 5.858378765755436| 5.871872484578421| 2.955344542639097|  4.423502902992428|  15.27165116658988|\n",
      "|       3.410359671|207.39747285508693| 49074.73040737054| 5.667433467359569|301.97501115806807| 351.5203925762217| 3.721765768518896|         0| 1.017797506753334E7| 1.4839562441829643| 5.339447183390557|10.801119902525917|1.8972349983755117|5.7136503306828965| 5.865108471859064|2.8324701465522684|  4.473228225062315|  16.13573673473626|\n",
      "| 3.434855759978651|185.34296149450563|        22690.2444| 8.150954367608389| 309.2176506941581| 398.3701304504024|5.3895102460791104|         0|   4205477.094130122| 1.4894950921162289|5.2275888548578076|10.029734419813446|2.2138581763191674| 5.737274150136397| 5.989888632132025|2.4010675314473504|  4.042126668110305| 15.251898541508888|\n",
      "|3.4450618643852127|207.92626018799376|       33424.76868| 8.782147480773485| 384.0070058017212| 441.7858756739387| 4.184396969028851|         0|   6949887.149281185| 1.4917937866159714| 5.341981367641446| 10.41708239886353| 2.280559038754022| 5.953261531009811| 6.093086302570405| 2.695025899330096| 3.4431258741237993| 15.754236123782865|\n",
      "| 3.514545528745279|158.73207576140192|23029.663613563636| 6.821679099461131| 286.5228468169785| 307.3791420351913| 3.762615331099367|         0|   3655546.309467784| 1.5073045237173741|  5.07349788515599|10.044581807578203|2.0568992501096477|5.6613023242695455| 5.731330006571852| 2.371386257799779|  4.392607071109574| 15.111756382628146|\n",
      "| 3.623165848258656|156.89891668869294|26738.525360886008|       5.023142591| 388.7522530536979|388.75262033130286| 5.370205548696381|         1|   4195245.662976157|  1.531079718958902|5.0619550604951415|10.193898100344546| 1.795609148196093|  5.96551128868756| 5.965512231023183| 2.901202454945897|  4.167670458204978| 15.249462695434014|\n",
      "| 3.637170625355805|238.94374429692908|10102.489720279777| 7.532191965992924| 337.5344254868793| 509.1503233017944| 5.446565702616764|         1|  2413926.7204848854| 1.5341044012291802| 5.480404497103512|  9.22063616001153| 2.143846299886341| 5.824625787290174| 6.234705433859807|2.6958730431105145|  3.924995184447307| 14.696765738387242|\n",
      "+------------------+------------------+------------------+------------------+------------------+------------------+------------------+----------+--------------------+-------------------+------------------+------------------+------------------+------------------+------------------+------------------+-------------------+-------------------+\n",
      "only showing top 20 rows\n",
      "\n"
     ]
    }
   ],
   "source": [
    "data1 = data1.drop(\"Turbidity_log\", \"Trihalomethanes\", \"Organic_carbon\")\n",
    "\n",
    "\n",
    "data1.show()"
   ]
  },
  {
   "cell_type": "code",
   "execution_count": null,
   "id": "3cfd3d80",
   "metadata": {},
   "outputs": [],
   "source": []
  }
 ],
 "metadata": {
  "kernelspec": {
   "display_name": "Python 3 (ipykernel)",
   "language": "python",
   "name": "python3"
  },
  "language_info": {
   "codemirror_mode": {
    "name": "ipython",
    "version": 3
   },
   "file_extension": ".py",
   "mimetype": "text/x-python",
   "name": "python",
   "nbconvert_exporter": "python",
   "pygments_lexer": "ipython3",
   "version": "3.10.4"
  }
 },
 "nbformat": 4,
 "nbformat_minor": 5
}
