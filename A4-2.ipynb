{
 "cells": [
  {
   "cell_type": "code",
   "execution_count": 1,
   "id": "b6c383b7",
   "metadata": {},
   "outputs": [],
   "source": [
    "from pyspark.sql import SparkSession\n",
    "from pyspark.ml.feature import VectorAssembler, StandardScaler\n",
    "from pyspark.ml.classification import RandomForestClassifier\n",
    "from pyspark.ml.evaluation import BinaryClassificationEvaluator\n",
    "from pyspark.ml import Pipeline"
   ]
  },
  {
   "cell_type": "code",
   "execution_count": 2,
   "id": "96fa7571",
   "metadata": {},
   "outputs": [
    {
     "name": "stderr",
     "output_type": "stream",
     "text": [
      "WARNING: An illegal reflective access operation has occurred\n",
      "WARNING: Illegal reflective access by org.apache.spark.unsafe.Platform (file:/home/ubuntu/.local/lib/python3.10/site-packages/pyspark/jars/spark-unsafe_2.12-3.2.1.jar) to constructor java.nio.DirectByteBuffer(long,int)\n",
      "WARNING: Please consider reporting this to the maintainers of org.apache.spark.unsafe.Platform\n",
      "WARNING: Use --illegal-access=warn to enable warnings of further illegal reflective access operations\n",
      "WARNING: All illegal access operations will be denied in a future release\n",
      "Using Spark's default log4j profile: org/apache/spark/log4j-defaults.properties\n",
      "Setting default log level to \"WARN\".\n",
      "To adjust logging level use sc.setLogLevel(newLevel). For SparkR, use setLogLevel(newLevel).\n",
      "24/05/22 07:48:09 WARN NativeCodeLoader: Unable to load native-hadoop library for your platform... using builtin-java classes where applicable\n"
     ]
    }
   ],
   "source": [
    "spark = SparkSession.builder.appName(\"WaterPotabilityPrediction\").getOrCreate()"
   ]
  },
  {
   "cell_type": "code",
   "execution_count": 3,
   "id": "43284cdd",
   "metadata": {},
   "outputs": [
    {
     "name": "stdout",
     "output_type": "stream",
     "text": [
      "+-------+------------------+------------------+-----------------+------------------+------------------+------------------+------------------+------------------+------------------+-------------------+\n",
      "|summary|                ph|          Hardness|           Solids|       Chloramines|           Sulfate|      Conductivity|    Organic_carbon|   Trihalomethanes|         Turbidity|         Potability|\n",
      "+-------+------------------+------------------+-----------------+------------------+------------------+------------------+------------------+------------------+------------------+-------------------+\n",
      "|  count|              2248|              2293|             2293|              2293|              2293|              2293|              2293|              2293|              2293|               2293|\n",
      "|   mean| 7.087046467930066|196.39033467318723|22074.33533378741|  7.13298722773223|333.39334730577684|425.45570192935264|14.229174077558303| 66.49951785248768|3.9671531697581806|0.39031836022677713|\n",
      "| stddev|  1.48592143755307| 32.46063266722441| 8668.69390812667|1.5738789920188605| 36.11627101915496| 80.26665196147566| 3.341429166974116|16.067742286956953|0.7884800480665575|  0.487928031806015|\n",
      "|    min|               0.0|            47.432|      320.9426113|0.5303512946996154|180.20674636482343| 201.6197367551575|2.1999999999999886|0.7379999999999995|              1.45|                  0|\n",
      "|    max|13.999999999999998|317.33812405558257|56351.39630372492|13.043806107761023| 481.0306423059972| 753.3426195583046| 28.30000000000001|             124.0|             6.739|                  1|\n",
      "+-------+------------------+------------------+-----------------+------------------+------------------+------------------+------------------+------------------+------------------+-------------------+\n",
      "\n",
      "['ph', 'Hardness', 'Solids', 'Chloramines', 'Sulfate', 'Conductivity', 'Organic_carbon', 'Trihalomethanes', 'Turbidity', 'Potability']\n"
     ]
    }
   ],
   "source": [
    "data = spark.read.csv(\"Water1.csv\", header=True, inferSchema=True)\n",
    "data.describe().show()\n",
    "print(data.columns)"
   ]
  },
  {
   "cell_type": "code",
   "execution_count": 4,
   "id": "b2d279fb",
   "metadata": {},
   "outputs": [
    {
     "name": "stdout",
     "output_type": "stream",
     "text": [
      "row count: 2293\n",
      "rowname:\n",
      "root\n",
      " |-- ph: double (nullable = true)\n",
      " |-- Hardness: double (nullable = true)\n",
      " |-- Solids: double (nullable = true)\n",
      " |-- Chloramines: double (nullable = true)\n",
      " |-- Sulfate: double (nullable = true)\n",
      " |-- Conductivity: double (nullable = true)\n",
      " |-- Organic_carbon: double (nullable = true)\n",
      " |-- Trihalomethanes: double (nullable = true)\n",
      " |-- Turbidity: double (nullable = true)\n",
      " |-- Potability: integer (nullable = true)\n",
      "\n",
      "+-----------------+------------------+------------------+-----------------+-----------------+-----------------+------------------+------------------+------------------+----------+\n",
      "|               ph|          Hardness|            Solids|      Chloramines|          Sulfate|     Conductivity|    Organic_carbon|   Trihalomethanes|         Turbidity|Potability|\n",
      "+-----------------+------------------+------------------+-----------------+-----------------+-----------------+------------------+------------------+------------------+----------+\n",
      "|7.080794504276835|219.67426193471448|22210.613083285505|5.875041088125667|333.7757766108135|398.5177031387568|11.502315629592148|112.41221043181724|2.9942592099578635|         0|\n",
      "|6.783888467541533|193.65358060131555| 13677.10644058598|5.171453573375093|323.7286632332804|477.8546872578033|15.056064094821464| 66.39629294676803| 3.250022229204365|         0|\n",
      "|6.010617576533585|184.55858174244537|15940.573270538474|8.165222040842318|421.4860891671315|314.5298133899644| 20.31461673780456| 83.70793779298936| 4.867287404331263|         1|\n",
      "|8.097453770731768| 218.9924361418924| 18112.28444651079|6.196947393934283|333.7757766108135|376.5698033733333|       17.74626352|59.909940872345686| 4.279082403805938|         1|\n",
      "|      8.072612403| 210.2697797493537| 16843.36392740596|8.793458647829397|359.5161693303079|559.1675739231314|17.263576037622727| 68.73898910812215| 5.082206246764563|         0|\n",
      "+-----------------+------------------+------------------+-----------------+-----------------+-----------------+------------------+------------------+------------------+----------+\n",
      "only showing top 5 rows\n",
      "\n"
     ]
    }
   ],
   "source": [
    "print(\"row count:\", data.count())\n",
    "print(\"rowname:\")\n",
    "data.printSchema()\n",
    "data.show(5)"
   ]
  },
  {
   "cell_type": "code",
   "execution_count": 5,
   "id": "499873dc",
   "metadata": {},
   "outputs": [
    {
     "name": "stderr",
     "output_type": "stream",
     "text": [
      "\r",
      "[Stage 9:>                                                          (0 + 1) / 1]\r"
     ]
    },
    {
     "name": "stdout",
     "output_type": "stream",
     "text": [
      "+-------+------------------+------------------+------------------+------------------+------------------+------------------+------------------+------------------+------------------+-------------------+\n",
      "|summary|                ph|          Hardness|            Solids|       Chloramines|           Sulfate|      Conductivity|    Organic_carbon|   Trihalomethanes|         Turbidity|         Potability|\n",
      "+-------+------------------+------------------+------------------+------------------+------------------+------------------+------------------+------------------+------------------+-------------------+\n",
      "|  count|              2248|              2293|              2293|              2293|              2293|              2293|              2293|              2293|              2293|               2293|\n",
      "|   mean| 7.087046467930066|196.39033467318723| 22074.33533378741|  7.13298722773223|333.39334730577684|425.45570192935264|14.229174077558303| 66.49951785248768|3.9671531697581806|0.39031836022677713|\n",
      "| stddev|  1.48592143755307| 32.46063266722441|  8668.69390812667|1.5738789920188605| 36.11627101915496| 80.26665196147566| 3.341429166974116|16.067742286956953|0.7884800480665575|  0.487928031806015|\n",
      "|    min|               0.0|            47.432|       320.9426113|0.5303512946996154|180.20674636482343| 201.6197367551575|2.1999999999999886|0.7379999999999995|              1.45|                  0|\n",
      "|    25%| 6.271012171064563|176.75349958886147| 15825.18257101378| 6.140033164031195|316.55279138947884| 363.9740597257931|       12.01586777| 56.32907628451764|3.4407533246763085|                  0|\n",
      "|    50%| 7.080794504276835|196.83300109745483|21153.322826848344| 7.135063441641857| 333.7757766108135| 420.8283621868532|14.151538219348367| 66.39629294676803|3.9471378883607935|                  0|\n",
      "|    75%| 7.874671357791283|216.44117153408857| 27345.17428802764| 8.104497502263726| 349.9852426324749|480.71520782815895|16.450990050021232| 77.18262160266588| 4.503660796179122|                  1|\n",
      "|    max|13.999999999999998|317.33812405558257| 56351.39630372492|13.043806107761023| 481.0306423059972| 753.3426195583046| 28.30000000000001|             124.0|             6.739|                  1|\n",
      "+-------+------------------+------------------+------------------+------------------+------------------+------------------+------------------+------------------+------------------+-------------------+\n",
      "\n"
     ]
    },
    {
     "name": "stderr",
     "output_type": "stream",
     "text": [
      "\r",
      "                                                                                \r"
     ]
    }
   ],
   "source": [
    "data.summary().show()"
   ]
  },
  {
   "cell_type": "code",
   "execution_count": 6,
   "id": "381aef23",
   "metadata": {},
   "outputs": [
    {
     "data": {
      "image/png": "[encoded data removed]",
      "text/plain": [
       "<Figure size 432x288 with 1 Axes>"
      ]
     },
     "metadata": {
      "needs_background": "light"
     },
     "output_type": "display_data"
    }
   ],
   "source": [
    "import pandas as pd\n",
    "import matplotlib.pyplot as plt\n",
    "\n",
    "\n",
    "potability_pdf = data.select(\"Potability\").toPandas()\n",
    "potability_pdf['Potability'].value_counts().plot(kind='bar', color=['blue', 'green'])\n",
    "\n",
    "\n",
    "plt.title('Distribution of Potability')\n",
    "plt.xlabel('Potability')\n",
    "plt.ylabel('Frequency')\n",
    "plt.xticks(rotation=0) \n",
    "plt.show()"
   ]
  },
  {
   "cell_type": "code",
   "execution_count": 9,
   "id": "5254a16e",
   "metadata": {},
   "outputs": [
    {
     "name": "stdout",
     "output_type": "stream",
     "text": [
      "+---+--------+------+-----------+-------+------------+--------------+---------------+---------+----------+\n",
      "| ph|Hardness|Solids|Chloramines|Sulfate|Conductivity|Organic_carbon|Trihalomethanes|Turbidity|Potability|\n",
      "+---+--------+------+-----------+-------+------------+--------------+---------------+---------+----------+\n",
      "| 45|       0|     0|          0|      0|           0|             0|              0|        0|         0|\n",
      "+---+--------+------+-----------+-------+------------+--------------+---------------+---------+----------+\n",
      "\n"
     ]
    }
   ],
   "source": [
    "from pyspark.sql.functions import col, count, when, lit\n",
    "\n",
    "# Count the number of missing values\n",
    "missing_values = data.select([count(when(col(c).isNull(), c)).alias(c) for c in data.columns])\n",
    "\n",
    "missing_values.show()"
   ]
  },
  {
   "cell_type": "code",
   "execution_count": 10,
   "id": "ff1b500c",
   "metadata": {},
   "outputs": [
    {
     "name": "stdout",
     "output_type": "stream",
     "text": [
      "+-----------------+--------------------+------------------+-----------------------+-------------------+------------------------+--------------------------+---------------------------+---------------------+----------------------+\n",
      "|   ph_missing_pct|Hardness_missing_pct|Solids_missing_pct|Chloramines_missing_pct|Sulfate_missing_pct|Conductivity_missing_pct|Organic_carbon_missing_pct|Trihalomethanes_missing_pct|Turbidity_missing_pct|Potability_missing_pct|\n",
      "+-----------------+--------------------+------------------+-----------------------+-------------------+------------------------+--------------------------+---------------------------+---------------------+----------------------+\n",
      "|1.962494548626254|                 0.0|               0.0|                    0.0|                0.0|                     0.0|                       0.0|                        0.0|                  0.0|                   0.0|\n",
      "+-----------------+--------------------+------------------+-----------------------+-------------------+------------------------+--------------------------+---------------------------+---------------------+----------------------+\n",
      "\n"
     ]
    }
   ],
   "source": [
    "total_rows = data.count()\n",
    "missing_percentage = data.select(\n",
    "    [(count(when(col(c).isNull(), c)) / lit(total_rows) * 100).alias(c + \"_missing_pct\") \n",
    "     for c in data.columns]\n",
    ")\n",
    "missing_percentage.show()"
   ]
  },
  {
   "cell_type": "code",
   "execution_count": null,
   "id": "46263848",
   "metadata": {},
   "outputs": [],
   "source": []
  }
 ],
 "metadata": {
  "kernelspec": {
   "display_name": "Python 3 (ipykernel)",
   "language": "python",
   "name": "python3"
  },
  "language_info": {
   "codemirror_mode": {
    "name": "ipython",
    "version": 3
   },
   "file_extension": ".py",
   "mimetype": "text/x-python",
   "name": "python",
   "nbconvert_exporter": "python",
   "pygments_lexer": "ipython3",
   "version": "3.10.4"
  }
 },
 "nbformat": 4,
 "nbformat_minor": 5
}
